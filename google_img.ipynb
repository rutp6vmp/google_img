{
 "cells": [
  {
   "cell_type": "code",
   "execution_count": null,
   "metadata": {},
   "outputs": [
    {
     "name": "stdout",
     "output_type": "stream",
     "text": [
      "\n",
      "Item no.: 1 --> Item name = \\u8868\\u7279\n",
      "Evaluating...\n"
     ]
    }
   ],
   "source": [
    "#https://google-images-download.readthedocs.io/en/latest/arguments.html\n",
    "from google_images_download import google_images_download   #importing the library\n",
    "\n",
    "response = google_images_download.googleimagesdownload()   #class instantiation\n",
    "\n",
    "arguments = {\"keywords\":\"表特\",\"limit\":1000,\"print_urls\":True,\"chromedriver\":'chromedriver'}   #creating list of arguments\n",
    "paths = response.download(arguments)   #passing the arguments to the function\n",
    "print(paths)   #printing absolute paths of the downloaded images\n"
   ]
  },
  {
   "cell_type": "code",
   "execution_count": 1,
   "metadata": {},
   "outputs": [],
   "source": [
    "import os\n",
    "from PIL import Image\n",
    "\n",
    "img_dir = r\"./photo/\"\n",
    "for filename in os.listdir(img_dir):\n",
    "    try :\n",
    "        with Image.open(img_dir + \"/\" + filename) as im:\n",
    "             print('ok')\n",
    "    except :\n",
    "        print(img_dir + \"/\" + filename)\n",
    "        os.remove(img_dir + \"/\" + filename)"
   ]
  }
 ],
 "metadata": {
  "kernelspec": {
   "display_name": "Python 3",
   "language": "python",
   "name": "python3"
  },
  "language_info": {
   "codemirror_mode": {
    "name": "ipython",
    "version": 3
   },
   "file_extension": ".py",
   "mimetype": "text/x-python",
   "name": "python",
   "nbconvert_exporter": "python",
   "pygments_lexer": "ipython3",
   "version": "3.7.3"
  }
 },
 "nbformat": 4,
 "nbformat_minor": 2
}
